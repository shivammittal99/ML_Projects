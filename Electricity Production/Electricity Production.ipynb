{
 "cells": [
  {
   "cell_type": "markdown",
   "metadata": {},
   "source": [
    "# Electricity Production \n",
    "\n",
    "Model to predict Electricity Generated (E) in MW based on ambient variables of the plant.\n",
    "\n",
    "**The ambient variables of the power plant are:**\n",
    "\n",
    "1. Temperature (T) in &deg;C\n",
    "2. Ambient Pressure (P) in millibar\n",
    "3. Relative Humidity (RH)\n",
    "4. Exhaust Vacuum (V) in cm Hg"
   ]
  },
  {
   "cell_type": "code",
   "execution_count": 1,
   "metadata": {},
   "outputs": [],
   "source": [
    "import numpy as np\n",
    "import `pandas as pd\n",
    "import matplotlib.pyplot as plt\n",
    "%matplotlib inline"
   ]
  },
  {
   "cell_type": "markdown",
   "metadata": {},
   "source": [
    "# Using Pandas to read data from csv"
   ]
  },
  {
   "cell_type": "code",
   "execution_count": 2,
   "metadata": {},
   "outputs": [],
   "source": [
    "train_data = pd.read_csv('train_data.csv')\n",
    "test_data = pd.read_csv('test_data.csv')"
   ]
  },
  {
   "cell_type": "code",
   "execution_count": 3,
   "metadata": {},
   "outputs": [
    {
     "data": {
      "text/html": [
       "<div>\n",
       "<style scoped>\n",
       "    .dataframe tbody tr th:only-of-type {\n",
       "        vertical-align: middle;\n",
       "    }\n",
       "\n",
       "    .dataframe tbody tr th {\n",
       "        vertical-align: top;\n",
       "    }\n",
       "\n",
       "    .dataframe thead th {\n",
       "        text-align: right;\n",
       "    }\n",
       "</style>\n",
       "<table border=\"1\" class=\"dataframe\">\n",
       "  <thead>\n",
       "    <tr style=\"text-align: right;\">\n",
       "      <th></th>\n",
       "      <th>T</th>\n",
       "      <th>V</th>\n",
       "      <th>P</th>\n",
       "      <th>RH</th>\n",
       "      <th>E</th>\n",
       "    </tr>\n",
       "  </thead>\n",
       "  <tbody>\n",
       "    <tr>\n",
       "      <th>0</th>\n",
       "      <td>273.39</td>\n",
       "      <td>420.12</td>\n",
       "      <td>91.84</td>\n",
       "      <td>57.41</td>\n",
       "      <td>1778.12</td>\n",
       "    </tr>\n",
       "    <tr>\n",
       "      <th>1</th>\n",
       "      <td>195.26</td>\n",
       "      <td>248.88</td>\n",
       "      <td>92.29</td>\n",
       "      <td>35.21</td>\n",
       "      <td>1824.16</td>\n",
       "    </tr>\n",
       "    <tr>\n",
       "      <th>2</th>\n",
       "      <td>377.52</td>\n",
       "      <td>360.42</td>\n",
       "      <td>92.31</td>\n",
       "      <td>27.69</td>\n",
       "      <td>1761.72</td>\n",
       "    </tr>\n",
       "    <tr>\n",
       "      <th>3</th>\n",
       "      <td>171.60</td>\n",
       "      <td>244.98</td>\n",
       "      <td>91.61</td>\n",
       "      <td>56.99</td>\n",
       "      <td>1889.64</td>\n",
       "    </tr>\n",
       "    <tr>\n",
       "      <th>4</th>\n",
       "      <td>222.56</td>\n",
       "      <td>353.70</td>\n",
       "      <td>92.43</td>\n",
       "      <td>54.25</td>\n",
       "      <td>1806.68</td>\n",
       "    </tr>\n",
       "  </tbody>\n",
       "</table>\n",
       "</div>"
      ],
      "text/plain": [
       "        T       V      P     RH        E\n",
       "0  273.39  420.12  91.84  57.41  1778.12\n",
       "1  195.26  248.88  92.29  35.21  1824.16\n",
       "2  377.52  360.42  92.31  27.69  1761.72\n",
       "3  171.60  244.98  91.61  56.99  1889.64\n",
       "4  222.56  353.70  92.43  54.25  1806.68"
      ]
     },
     "execution_count": 3,
     "metadata": {},
     "output_type": "execute_result"
    }
   ],
   "source": [
    "train_data.head()"
   ]
  },
  {
   "cell_type": "code",
   "execution_count": 4,
   "metadata": {},
   "outputs": [
    {
     "data": {
      "text/html": [
       "<div>\n",
       "<style scoped>\n",
       "    .dataframe tbody tr th:only-of-type {\n",
       "        vertical-align: middle;\n",
       "    }\n",
       "\n",
       "    .dataframe tbody tr th {\n",
       "        vertical-align: top;\n",
       "    }\n",
       "\n",
       "    .dataframe thead th {\n",
       "        text-align: right;\n",
       "    }\n",
       "</style>\n",
       "<table border=\"1\" class=\"dataframe\">\n",
       "  <thead>\n",
       "    <tr style=\"text-align: right;\">\n",
       "      <th></th>\n",
       "      <th>T</th>\n",
       "      <th>V</th>\n",
       "      <th>P</th>\n",
       "      <th>RH</th>\n",
       "      <th>E</th>\n",
       "    </tr>\n",
       "  </thead>\n",
       "  <tbody>\n",
       "    <tr>\n",
       "      <th>count</th>\n",
       "      <td>2000.000000</td>\n",
       "      <td>2000.000000</td>\n",
       "      <td>2000.000000</td>\n",
       "      <td>2000.000000</td>\n",
       "      <td>2000.000000</td>\n",
       "    </tr>\n",
       "    <tr>\n",
       "      <th>mean</th>\n",
       "      <td>256.010820</td>\n",
       "      <td>325.217580</td>\n",
       "      <td>92.111935</td>\n",
       "      <td>44.169640</td>\n",
       "      <td>1817.052860</td>\n",
       "    </tr>\n",
       "    <tr>\n",
       "      <th>std</th>\n",
       "      <td>95.188288</td>\n",
       "      <td>76.288073</td>\n",
       "      <td>0.539140</td>\n",
       "      <td>8.773132</td>\n",
       "      <td>66.594563</td>\n",
       "    </tr>\n",
       "    <tr>\n",
       "      <th>min</th>\n",
       "      <td>47.190000</td>\n",
       "      <td>152.160000</td>\n",
       "      <td>90.260000</td>\n",
       "      <td>15.530000</td>\n",
       "      <td>1700.560000</td>\n",
       "    </tr>\n",
       "    <tr>\n",
       "      <th>25%</th>\n",
       "      <td>175.695000</td>\n",
       "      <td>250.680000</td>\n",
       "      <td>91.730000</td>\n",
       "      <td>37.997500</td>\n",
       "      <td>1758.960000</td>\n",
       "    </tr>\n",
       "    <tr>\n",
       "      <th>50%</th>\n",
       "      <td>266.565000</td>\n",
       "      <td>307.800000</td>\n",
       "      <td>92.080000</td>\n",
       "      <td>45.160000</td>\n",
       "      <td>1808.400000</td>\n",
       "    </tr>\n",
       "    <tr>\n",
       "      <th>75%</th>\n",
       "      <td>334.880000</td>\n",
       "      <td>398.700000</td>\n",
       "      <td>92.482500</td>\n",
       "      <td>51.152500</td>\n",
       "      <td>1871.620000</td>\n",
       "    </tr>\n",
       "    <tr>\n",
       "      <th>max</th>\n",
       "      <td>455.390000</td>\n",
       "      <td>481.080000</td>\n",
       "      <td>93.890000</td>\n",
       "      <td>60.090000</td>\n",
       "      <td>1976.960000</td>\n",
       "    </tr>\n",
       "  </tbody>\n",
       "</table>\n",
       "</div>"
      ],
      "text/plain": [
       "                 T            V            P           RH            E\n",
       "count  2000.000000  2000.000000  2000.000000  2000.000000  2000.000000\n",
       "mean    256.010820   325.217580    92.111935    44.169640  1817.052860\n",
       "std      95.188288    76.288073     0.539140     8.773132    66.594563\n",
       "min      47.190000   152.160000    90.260000    15.530000  1700.560000\n",
       "25%     175.695000   250.680000    91.730000    37.997500  1758.960000\n",
       "50%     266.565000   307.800000    92.080000    45.160000  1808.400000\n",
       "75%     334.880000   398.700000    92.482500    51.152500  1871.620000\n",
       "max     455.390000   481.080000    93.890000    60.090000  1976.960000"
      ]
     },
     "execution_count": 4,
     "metadata": {},
     "output_type": "execute_result"
    }
   ],
   "source": [
    "train_data.describe()"
   ]
  },
  {
   "cell_type": "markdown",
   "metadata": {},
   "source": [
    "# Using Keras for neural network and sklearn for preprocessing, pipeline, metrics, etc."
   ]
  },
  {
   "cell_type": "code",
   "execution_count": 5,
   "metadata": {},
   "outputs": [
    {
     "name": "stderr",
     "output_type": "stream",
     "text": [
      "Using TensorFlow backend.\n"
     ]
    }
   ],
   "source": [
    "from keras.models import Sequential\n",
    "from keras.layers import Dense\n",
    "from keras.wrappers.scikit_learn import KerasRegressor\n",
    "from sklearn.model_selection import cross_val_score\n",
    "from sklearn.model_selection import KFold\n",
    "from sklearn.preprocessing import StandardScaler\n",
    "from sklearn.pipeline import Pipeline\n",
    "from sklearn.metrics import r2_score"
   ]
  },
  {
   "cell_type": "code",
   "execution_count": 6,
   "metadata": {},
   "outputs": [],
   "source": [
    "X = train_data[['T', 'V', 'P', 'RH']].values\n",
    "Y = train_data['E'].values\n",
    "X_test = test_data.values"
   ]
  },
  {
   "cell_type": "code",
   "execution_count": 7,
   "metadata": {},
   "outputs": [],
   "source": [
    "def baseline_model():\n",
    "    model = Sequential()\n",
    "    model.add(Dense(64, input_dim=4, kernel_initializer='normal', activation='relu'))\n",
    "    model.add(Dense(16, kernel_initializer='normal', activation='relu'))\n",
    "    model.add(Dense(8, kernel_initializer='normal', activation='relu'))\n",
    "    model.add(Dense(1, kernel_initializer='normal'))\n",
    "    model.compile(loss='mean_squared_error', optimizer='adam')\n",
    "    return model"
   ]
  },
  {
   "cell_type": "code",
   "execution_count": 8,
   "metadata": {
    "scrolled": true
   },
   "outputs": [
    {
     "name": "stdout",
     "output_type": "stream",
     "text": [
      "Results: -291.84 (44.91) MSE\n"
     ]
    }
   ],
   "source": [
    "epochs = 500\n",
    "batch_size = 100\n",
    "estimators = []\n",
    "estimators.append(('standardize', StandardScaler()))\n",
    "estimators.append(('mlp', KerasRegressor(build_fn=baseline_model, epochs=epochs, batch_size=batch_size, verbose=0)))\n",
    "pipeline = Pipeline(estimators)\n",
    "kfold = KFold(n_splits=10)\n",
    "results = cross_val_score(pipeline, X, Y, cv=kfold)\n",
    "print(\"Results: %.2f (%.2f) MSE\" %(results.mean(), results.std()))"
   ]
  },
  {
   "cell_type": "code",
   "execution_count": 9,
   "metadata": {},
   "outputs": [
    {
     "name": "stdout",
     "output_type": "stream",
     "text": [
      "R2 Score: 0.9167796073330071\n"
     ]
    }
   ],
   "source": [
    "estimators[1][1].fit(X[:1800], Y[:1800])\n",
    "pred = estimators[1][1].predict(X[1800:])\n",
    "print(\"R2 Score:\", r2_score(pred, Y[1800:]))"
   ]
  },
  {
   "cell_type": "code",
   "execution_count": 10,
   "metadata": {},
   "outputs": [
    {
     "data": {
      "image/png": "[encoded data removed]",
      "text/plain": [
       "<matplotlib.figure.Figure at 0x7f75b797b630>"
      ]
     },
     "metadata": {},
     "output_type": "display_data"
    }
   ],
   "source": [
    "plt.plot(range(pred.shape[0]), pred, label='Keras')\n",
    "plt.plot(range(pred.shape[0]), Y[1800:], label='Original Data')\n",
    "plt.legend(loc='best')\n",
    "plt.ylabel('Electricity Generated (MW)')\n",
    "plt.xlabel('Days')\n",
    "plt.title('Dev : Net daily Electrical Energy (E)')\n",
    "plt.show()"
   ]
  },
  {
   "cell_type": "code",
   "execution_count": 11,
   "metadata": {},
   "outputs": [],
   "source": [
    "estimators[1][1].fit(X, Y)\n",
    "test_pred = estimators[1][1].predict(X_test)"
   ]
  },
  {
   "cell_type": "code",
   "execution_count": 12,
   "metadata": {},
   "outputs": [],
   "source": [
    "pd.DataFrame(test_pred).to_csv('results_neural_net.csv', index=False, header=False)"
   ]
  },
  {
   "cell_type": "markdown",
   "metadata": {},
   "source": [
    "# Using train_test_split and MinMaxScaler from sklearn"
   ]
  },
  {
   "cell_type": "markdown",
   "metadata": {},
   "source": [
    "```\n",
    "from sklearn.model_selection import train_test_split\n",
    "from sklearn.preprocessing import MinMaxScaler\n",
    "```"
   ]
  },
  {
   "cell_type": "markdown",
   "metadata": {},
   "source": [
    "```\n",
    "X = np.array(train_data[['T', 'V', 'P', 'RH']])\n",
    "Y = np.array(train_data['E'])\n",
    "X_test = np.array(test_data)\n",
    "\n",
    "scaler = MinMaxScaler()\n",
    "\n",
    "X = scaler.fit_transform(X)\n",
    "X_test = scaler.transform(X_test)\n",
    "\n",
    "X_train, X_dev, Y_train, Y_dev = train_test_split(X, Y, test_size=0.1)\n",
    "```"
   ]
  },
  {
   "cell_type": "markdown",
   "metadata": {},
   "source": [
    "# Using Tensorflow for neural network"
   ]
  },
  {
   "cell_type": "markdown",
   "metadata": {},
   "source": [
    "```\n",
    "import tensorflow as tf\n",
    "```"
   ]
  },
  {
   "cell_type": "markdown",
   "metadata": {},
   "source": [
    "```\n",
    "def layer(A_in, layer_size):\n",
    "    W = tf.Variable(tf.random_uniform([int(A_in.shape[1]), layer_size]))\n",
    "    b = tf.Variable(tf.zeros([layer_size]))\n",
    "    A_out = tf.nn.relu(tf.add(tf.matmul(A_in, W), b))\n",
    "    \n",
    "    return (W, b, A_out)\n",
    "```"
   ]
  },
  {
   "cell_type": "markdown",
   "metadata": {},
   "source": [
    "```\n",
    "def neural_net_model(X_in, layers):\n",
    "\n",
    "    W_prev, b_prev, A_prev = layer(X_in, layers[0])\n",
    "    W = [W_prev]\n",
    "    for layer_num in range(1, len(layers)-1):\n",
    "        W_prev, b_prev, A_prev = layer(A_prev, layers[layer_num])\n",
    "        W.append(W_prev)\n",
    "    W_prev = tf.Variable(tf.random_uniform([int(A_prev.shape[1]), layers[-1]]))\n",
    "    b_prev = tf.Variable(tf.zeros([layers[-1]]))\n",
    "    A_prev = tf.add(tf.matmul(A_prev, W_prev), b_prev)\n",
    "    W.append(W_prev)\n",
    "    \n",
    "    return (W, A_prev)\n",
    "```"
   ]
  },
  {
   "cell_type": "markdown",
   "metadata": {
    "scrolled": false
   },
   "source": [
    "```\n",
    "learning_rate = 0.001\n",
    "epochs = 2500\n",
    "batch_size = 100\n",
    "beta = 0.0\n",
    "\n",
    "x = tf.placeholder(tf.float32, [None, 4], name='x')\n",
    "y = tf.placeholder(tf.float32, [None], name='y')\n",
    "\n",
    "weights, output = neural_net_model(x, [32, 16, 8, 1])\n",
    "\n",
    "regularizer = 0\n",
    "for weight in weights:\n",
    "    regularizer += tf.nn.l2_loss(weight)\n",
    "cost = tf.reduce_mean(tf.square(output-y)+beta*regularizer)\n",
    "    \n",
    "optimizer = tf.train.AdamOptimizer(learning_rate=learning_rate).minimize(cost)\n",
    "\n",
    "init_op = tf.global_variables_initializer()\n",
    "\n",
    "with tf.Session() as sess:\n",
    "    sess.run(init_op)\n",
    "    total_batch = X_train.shape[0] // batch_size\n",
    "    for epoch in range(epochs):\n",
    "        avg_cost = 0\n",
    "        for i in range(total_batch):\n",
    "            batch_x, batch_y = X_train[i*batch_size:(i+1)*batch_size], Y_train[i*batch_size:(i+1)*batch_size]\n",
    "            _, c = sess.run([optimizer, cost], feed_dict={x: batch_x, y: batch_y})\n",
    "            avg_cost += c/total_batch\n",
    "        if epoch%100 == 0:\n",
    "            print('Epoch :', (epoch), 'cost = {:.3f}'.format(avg_cost))\n",
    "    \n",
    "            train_pred = sess.run(output, feed_dict={x: X_train})\n",
    "\n",
    "            plt.plot(range(Y_train.shape[0]), Y_train, label='Original Data')\n",
    "            plt.plot(range(Y_train.shape[0]), train_pred, label='Predicted Data')\n",
    "            plt.legend(loc='best')\n",
    "            plt.ylabel('Electricity Generated (MW)')\n",
    "            plt.xlabel('Days')\n",
    "            plt.title('Train : Net daily Electrical Energy (E)')\n",
    "            plt.show()\n",
    "\n",
    "            dev_pred = sess.run(output, feed_dict={x: X_dev})\n",
    "            print('Dev Cost :', sess.run(cost, feed_dict={x: X_dev, y: Y_dev}))\n",
    "\n",
    "            plt.plot(range(Y_dev.shape[0]), Y_dev, label='Original Data')\n",
    "            plt.plot(range(Y_dev.shape[0]), dev_pred, label='Predicted Data')\n",
    "            plt.legend(loc='best')\n",
    "            plt.ylabel('Electricity Generated (MW)')\n",
    "            plt.xlabel('Days')\n",
    "            plt.title('Dev : Net daily Electrical Energy (E)')\n",
    "            plt.show()\n",
    "    \n",
    "    test_pred = sess.run(output, feed_dict={x: X_test})\n",
    "```"
   ]
  }
 ],
 "metadata": {
  "kernelspec": {
   "display_name": "Python 3",
   "language": "python",
   "name": "python3"
  },
  "language_info": {
   "codemirror_mode": {
    "name": "ipython",
    "version": 3
   },
   "file_extension": ".py",
   "mimetype": "text/x-python",
   "name": "python",
   "nbconvert_exporter": "python",
   "pygments_lexer": "ipython3",
   "version": "3.6.3"
  }
 },
 "nbformat": 4,
 "nbformat_minor": 2
}
